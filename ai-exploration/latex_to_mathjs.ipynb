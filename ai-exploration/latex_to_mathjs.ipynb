{
 "cells": [
  {
   "cell_type": "code",
   "execution_count": null,
   "metadata": {},
   "outputs": [],
   "source": [
    "# Cohere specific imports\n",
    "import cohere\n",
    "import os\n",
    "import utils\n",
    "\n",
    "# Connect to cohere\n",
    "cohere_api_key = os.environ.get(\"COHERE_API_KEY\")\n",
    "co = cohere.ClientV2(cohere_api_key)"
   ]
  },
  {
   "cell_type": "code",
   "execution_count": null,
   "metadata": {},
   "outputs": [],
   "source": [
    "system_prompt = \"\"\"\n",
    "You are a software engineer specializing in translating equations from LaTeX to Math.js syntax. \n",
    "Your task is to convert LaTeX equations into accurate Math.js expressions, suitable for use in projects, \n",
    "particularly in bioinformatics. The output must adhere to Math.js syntax and support complex mathematical functions.\n",
    "\n",
    "Reference: https://mathjs.org/docs/index.html and https://mathjs.org/examples/index.html.\n",
    "\n",
    "Respond strictly in the following JSON format: {{'mathjs': '<translated math.js expression>'}}. \n",
    "For example, LaTeX input 'x^2 + 3' should be returned as {{'mathjs': 'x ^ 2 + 3'}}.\n",
    "\"\"\"\n",
    "\n",
    "def translate_to_mathjs_prompt(latex_input):\n",
    "    return f\"Can you translate this LaTeX equation to Math.js syntax:\\n{latex_input}\""
   ]
  },
  {
   "cell_type": "code",
   "execution_count": null,
   "metadata": {},
   "outputs": [],
   "source": [
    "latex_input = r\"\"\"v_{\\max} \\cdot \\frac{1}{1+\\left(\\frac{EC_{50}}{\\text{Tumor.Drug}} \\cdot \\frac{\\text{tumorBurden}}{\\text{molarMassDrug}}\\right)^{n_{\\text{Hill}}}}\"\"\"\n",
    "\n",
    "chat_history = utils.run_chatbot(co,\n",
    "                                 translate_to_mathjs_prompt(latex_input), \n",
    "                                 [{\"role\": \"system\", \"content\": system_prompt}])"
   ]
  },
  {
   "cell_type": "code",
   "execution_count": null,
   "metadata": {},
   "outputs": [],
   "source": [
    "translate_to_mathjs_prompt(latex_input)"
   ]
  }
 ],
 "metadata": {
  "kernelspec": {
   "display_name": "jinko-api-cookbook-qhtqbAjx-py3.12",
   "language": "python",
   "name": "python3"
  },
  "language_info": {
   "codemirror_mode": {
    "name": "ipython",
    "version": 3
   },
   "file_extension": ".py",
   "mimetype": "text/x-python",
   "name": "python",
   "nbconvert_exporter": "python",
   "pygments_lexer": "ipython3",
   "version": "3.12.4"
  }
 },
 "nbformat": 4,
 "nbformat_minor": 2
}
