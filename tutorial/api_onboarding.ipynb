{
 "cells": [
  {
   "cell_type": "markdown",
   "id": "DwjRZwMEP9VI",
   "metadata": {
    "id": "DwjRZwMEP9VI"
   },
   "source": [
    "<a target=\"_blank\" href=\"https://colab.research.google.com/github/novainsilico/jinko-api-cookbook/blob/main/tutorial/api_onboarding.ipynb\">\n",
    "  <img src=\"https://colab.research.google.com/assets/colab-badge.svg\" alt=\"Open In Colab\"/>\n",
    "</a>\n"
   ]
  },
  {
   "cell_type": "markdown",
   "id": "97de1512",
   "metadata": {
    "id": "97de1512"
   },
   "source": [
    "# Module 6 : Leveraging Jinkō’s API for Programmatic Access\n",
    "\n",
    "### Introduction\n",
    "Goal of this cookbook is to illustrate how one can post the material needed for a trial, run it and visualize the results.\n",
    "\n",
    "### Steps:\n",
    "1. Load the Computational Model\n",
    "2. Create a Virtual Population (Vpop) Design\n",
    "3. Generate a Vpop from the Vpop Design\n",
    "4. Post a Protocol\n",
    "5. Post an Output set\n",
    "6. Post a Trial\n",
    "7. Run and monitor a Trial\n",
    "8. Visualize the trial results\n",
    "9. Hands-on!\n",
    "\n",
    "### Linked resources:\n",
    "- [API tutorials](https://doc.jinko.ai/docs/category/api---tutorials/): guidelines and examples on how to use the sdk\n",
    "- [API Reference](https://doc.jinko.ai/api/#/): exhaustive documentation of jinkō's API\n",
    "- [Public cookbook repository](https://github.com/novainsilico/jinko-api-cookbook/tree/main): cookbooks examples of use caes we compiled\n",
    "- [Folder on jinko](https://jinko.ai/project/27e8eba0-a869-4c5d-b3b3-417db5a6e186): jinkō repository we're working with\n",
    "\n",
    "---"
   ]
  },
  {
   "cell_type": "markdown",
   "id": "c2548fb3",
   "metadata": {
    "id": "c2548fb3"
   },
   "source": [
    "## Step 0 : Connect to jinkō and setup the cookbook"
   ]
  },
  {
   "cell_type": "markdown",
   "id": "4de48cce",
   "metadata": {
    "id": "4de48cce"
   },
   "source": [
    "libraries used in this notebook:"
   ]
  },
  {
   "cell_type": "code",
   "execution_count": null,
   "id": "8ca5154f",
   "metadata": {
    "id": "8ca5154f"
   },
   "outputs": [],
   "source": [
    "import io\n",
    "import json\n",
    "import pandas as pd\n",
    "import zipfile\n",
    "import matplotlib.pyplot as plt\n",
    "import sys\n",
    "import os"
   ]
  },
  {
   "cell_type": "markdown",
   "id": "TP2J0QNHL_Py",
   "metadata": {
    "id": "TP2J0QNHL_Py"
   },
   "source": [
    "install jinko-sdk"
   ]
  },
  {
   "cell_type": "code",
   "execution_count": null,
   "id": "NMI_W0qZL4TK",
   "metadata": {
    "id": "NMI_W0qZL4TK"
   },
   "outputs": [],
   "source": [
    "!pip install jinko-sdk==0.5.0"
   ]
  },
  {
   "cell_type": "markdown",
   "id": "b82e26ba",
   "metadata": {
    "id": "b82e26ba"
   },
   "source": [
    "connection initialization:\n",
    "\n",
    "You need to create an api key [here](https://jinko.ai/project/27e8eba0-a869-4c5d-b3b3-417db5a6e186/settings) and to add it to your secrets.  \n",
    "Project id can be retrieved in the url of the project"
   ]
  },
  {
   "cell_type": "code",
   "execution_count": null,
   "id": "f4a8a8c1",
   "metadata": {
    "id": "f4a8a8c1"
   },
   "outputs": [],
   "source": [
    "import jinko_helpers as jinko\n",
    "\n",
    "if \"google.colab\" in sys.modules:\n",
    "    from google.colab import userdata\n",
    "    JINKO_API_KEY = userdata.get('JINKO_API_KEY')\n",
    "    print(\"JINKO_API_KEY is set\")\n",
    "else:\n",
    "    JINKO_API_KEY = os.environ.get(\"JINKO_API_KEY\")  # provide it\n",
    "\n",
    "PROJECT_ID = \"\" # provide it\n",
    "\n",
    "jinko.initialize(projectId=PROJECT_ID, apiKey=JINKO_API_KEY)"
   ]
  },
  {
   "cell_type": "markdown",
   "id": "38c49a21",
   "metadata": {
    "id": "38c49a21"
   },
   "source": [
    "constants of the cookbook:"
   ]
  },
  {
   "cell_type": "code",
   "execution_count": null,
   "id": "b8a8364c",
   "metadata": {
    "id": "b8a8364c"
   },
   "outputs": [],
   "source": [
    "# FOLDER_ID can be retrieved in the url of the folder, pattern is `https://jinko.ai/project/<project_id>?labels=<folder_id>`\n",
    "FOLDER_ID = \"\"  # TO BE PROVIDED\n",
    "\n",
    "# MODEL_URL is the url of your computational model, something like `https://jinko.ai/<model_sid>`\n",
    "MODEL_URL = \"\"  # TO BE PROVIDED"
   ]
  },
  {
   "cell_type": "markdown",
   "id": "cb7a6106",
   "metadata": {
    "id": "cb7a6106"
   },
   "source": [
    "# Step 1 : Load the Computational Model\n",
    "\n",
    "In this step, we will use an already uploaded computational model,  \n",
    "available at https://jinko.ai/cm-7etJ-gGTF"
   ]
  },
  {
   "cell_type": "code",
   "execution_count": null,
   "id": "255ad5f1",
   "metadata": {
    "id": "255ad5f1"
   },
   "outputs": [],
   "source": [
    "# getting computational model information\n",
    "model_project_item = jinko.get_project_item(url=MODEL_URL)\n",
    "\n",
    "model_core_item_id = model_project_item[\"coreId\"][\"id\"]\n",
    "model_snapshot_id = model_project_item[\"coreId\"][\"snapshotId\"]\n",
    "\n",
    "display(model_project_item)"
   ]
  },
  {
   "cell_type": "markdown",
   "id": "9687db1c",
   "metadata": {
    "id": "9687db1c"
   },
   "source": [
    "# Step 2 : Create a Vpop Design\n",
    "\n",
    "Let's retrieve the patient descriptors from the model and define their distributions for the Vpop design creation."
   ]
  },
  {
   "cell_type": "code",
   "execution_count": null,
   "id": "a6621fb7",
   "metadata": {
    "id": "a6621fb7"
   },
   "outputs": [],
   "source": [
    "# retrieving baseline descriptors (https://doc.jinko.ai/api/#/paths/core-v2-model_manager-jinko_model-coreItemId--snapshots--snapshotId--baseline_descriptors/get)\n",
    "numeric_descriptors = jinko.make_request(\n",
    "    path=f\"/core/v2/model_manager/jinko_model/{model_core_item_id}/snapshots/{model_snapshot_id}/baseline_descriptors\",\n",
    ").json()[\"numericDescriptors\"]\n",
    "\n",
    "patient_descriptors = [\n",
    "    descriptor[\"id\"]\n",
    "    for descriptor in numeric_descriptors\n",
    "    if any(\n",
    "        tag in descriptor[\"inputTag\"]\n",
    "        for tag in [\n",
    "            \"PatientDescriptorKnown\",\n",
    "            \"PatientDescriptorUnknown\",\n",
    "            \"PatientDescriptorPartiallyKnown\",\n",
    "        ]\n",
    "    )\n",
    "]\n",
    "\n",
    "print(f\"{len(patient_descriptors)} patient descriptors:\")\n",
    "display(patient_descriptors)"
   ]
  },
  {
   "cell_type": "markdown",
   "id": "c5642058",
   "metadata": {
    "id": "c5642058"
   },
   "source": [
    "Create a new list with the updated distributions:"
   ]
  },
  {
   "cell_type": "code",
   "execution_count": null,
   "id": "26a73b2c",
   "metadata": {
    "id": "26a73b2c"
   },
   "outputs": [],
   "source": [
    "patient_descriptors_distribtion = [\n",
    "    {\n",
    "        \"id\": \"Tu_init\",\n",
    "        \"distribution\": {\"mean\": 960000, \"stdev\": 1e5, \"tag\": \"Normal\"},\n",
    "    },\n",
    "    {\n",
    "        \"id\": \"mu2\",\n",
    "        \"distribution\": {\"lowBound\": 0.0328, \"highBound\": 0.0492, \"tag\": \"Uniform\"},\n",
    "    },\n",
    "    {\n",
    "        \"id\": \"p1\",\n",
    "        \"distribution\": {\"lowBound\": 1e-07, \"highBound\": 1.5e-07, \"tag\": \"Uniform\"},\n",
    "    },\n",
    "    {\n",
    "        \"id\": \"p2\",\n",
    "        \"distribution\": {\"lowBound\": 2.28e-07, \"highBound\": 3.42e-07, \"tag\": \"Uniform\"},\n",
    "    },\n",
    "    {\n",
    "        \"id\": \"p3\",\n",
    "        \"distribution\": {\"lowBound\": 8.8e-08, \"highBound\": 1.32e-07, \"tag\": \"Uniform\"},\n",
    "    },\n",
    "    {\n",
    "        \"id\": \"p4\",\n",
    "        \"distribution\": {\"lowBound\": 9.6e-09, \"highBound\": 1.44e-08, \"tag\": \"Uniform\"},\n",
    "    },\n",
    "    {\n",
    "        \"id\": \"p5\",\n",
    "        \"distribution\": {\"lowBound\": 2.4e-10, \"highBound\": 3.6e-10, \"tag\": \"Uniform\"},\n",
    "    },\n",
    "    {\n",
    "        \"id\": \"r\",\n",
    "        \"distribution\": {\"lowBound\": 0.00544, \"highBound\": 0.00816, \"tag\": \"Uniform\"},\n",
    "    },\n",
    "]"
   ]
  },
  {
   "cell_type": "markdown",
   "id": "8c2cb0bc",
   "metadata": {
    "id": "8c2cb0bc"
   },
   "source": [
    "post the virtual population design:"
   ]
  },
  {
   "cell_type": "code",
   "execution_count": null,
   "id": "0f13ff94",
   "metadata": {
    "id": "0f13ff94"
   },
   "outputs": [],
   "source": [
    "# uploading the vpop design (https://doc.jinko.ai/api/#/paths/core-v2-vpop_manager-vpop_generator/post)\n",
    "response = jinko.make_request(\n",
    "    path=\"/core/v2/vpop_manager/vpop_generator\",\n",
    "    method=\"POST\",\n",
    "    json={\n",
    "        \"contents\": {\n",
    "            \"computationalModelId\": {\n",
    "                \"coreItemId\": model_core_item_id,\n",
    "                \"snapshotId\": model_snapshot_id,\n",
    "            },\n",
    "            \"marginalDistributions\": patient_descriptors_distribtion,\n",
    "        },\n",
    "        \"tag\": \"VpopGeneratorFromDesign\",\n",
    "    },\n",
    "    options={\n",
    "        \"name\": \"vpop design for BCG model\",\n",
    "        \"folder_id\": FOLDER_ID,\n",
    "    },\n",
    ")\n",
    "\n",
    "project_item_info = jinko.get_project_item_info_from_response(response)\n",
    "vpop_generator_core_item_id = project_item_info[\"coreItemId\"][\"id\"]\n",
    "vpop_generator_snapshot_id = project_item_info[\"coreItemId\"][\"snapshotId\"]\n",
    "\n",
    "print(\n",
    "    f\"Virtual Populate Design Resource link: {jinko.get_project_item_url_from_response(response)}\"\n",
    ")"
   ]
  },
  {
   "cell_type": "markdown",
   "id": "6516445a",
   "metadata": {
    "id": "6516445a"
   },
   "source": [
    "# Step 3 : Generate a Vpop from the Vpop design\n",
    "\n",
    "From the virtual population design, we generate a virtual population of 100 patients"
   ]
  },
  {
   "cell_type": "code",
   "execution_count": null,
   "id": "d603dd35",
   "metadata": {
    "id": "d603dd35"
   },
   "outputs": [],
   "source": [
    "# generating the vpop (https://doc.jinko.ai/api/#/paths/core-v2-vpop_manager-vpop_generator-coreItemId--snapshots--snapshotId--vpop/post)\n",
    "response = jinko.make_request(\n",
    "    path=f\"/core/v2/vpop_manager/vpop_generator/{vpop_generator_core_item_id}/snapshots/{vpop_generator_snapshot_id}/vpop\",\n",
    "    method=\"POST\",\n",
    "    json={\n",
    "        \"contents\": {\n",
    "            \"computationalModelId\": {\n",
    "                \"coreItemId\": model_core_item_id,\n",
    "                \"snapshotId\": model_snapshot_id,\n",
    "            },\n",
    "            \"size\": 100,\n",
    "        },\n",
    "        \"tag\": \"VpopGeneratorOptionsForVpopDesign\",\n",
    "    },\n",
    "    options={\n",
    "        \"name\": \"vpop for BCG model\",\n",
    "        \"folder_id\": FOLDER_ID,\n",
    "    },\n",
    ")\n",
    "\n",
    "project_item_info = jinko.get_project_item_info_from_response(response)\n",
    "vpop_core_item_id = project_item_info[\"coreItemId\"][\"id\"]\n",
    "vpop_snapshot_id = project_item_info[\"coreItemId\"][\"snapshotId\"]\n",
    "\n",
    "print(\n",
    "    f\"Virtual Population Resource link: {jinko.get_project_item_url_from_response(response)}\"\n",
    ")"
   ]
  },
  {
   "cell_type": "markdown",
   "id": "c2297e60",
   "metadata": {
    "id": "c2297e60"
   },
   "source": [
    "# Step 4 : Post a Protocol\n",
    "\n",
    "We are posting a protocol with 2 arms:\n",
    " - Default_arm\n",
    " - Double_Dose"
   ]
  },
  {
   "cell_type": "code",
   "execution_count": null,
   "id": "2f9c1d19",
   "metadata": {
    "id": "2f9c1d19"
   },
   "outputs": [],
   "source": [
    "scenario_arms = [\n",
    "    {\n",
    "        \"armControl\": None,\n",
    "        \"armIsActive\": True,\n",
    "        \"armName\": \"Default_arm\",\n",
    "        \"armOverrides\": [\n",
    "            {\"formula\": \"100000.0\", \"key\": \"TreatmentBCG_Dose\"},\n",
    "            {\"formula\": \"100.0\", \"key\": \"TreatmentBCG_NbDose\"},\n",
    "            {\"formula\": \"7.0\", \"key\": \"TreatmentBCG_Recurrence\"},\n",
    "        ],\n",
    "        \"armWeight\": 1,\n",
    "    },\n",
    "    {\n",
    "        \"armControl\": None,\n",
    "        \"armIsActive\": True,\n",
    "        \"armName\": \"Double_Dose\",\n",
    "        \"armOverrides\": [\n",
    "            {\"formula\": \"200000.0\", \"key\": \"TreatmentBCG_Dose\"},\n",
    "            {\"formula\": \"100\", \"key\": \"TreatmentBCG_NbDose\"},\n",
    "            {\"formula\": \"7\", \"key\": \"TreatmentBCG_Recurrence\"},\n",
    "        ],\n",
    "        \"armWeight\": 1,\n",
    "    },\n",
    "]"
   ]
  },
  {
   "cell_type": "code",
   "execution_count": null,
   "id": "49ed14e9",
   "metadata": {
    "id": "49ed14e9"
   },
   "outputs": [],
   "source": [
    "# uploading the protocol (https://doc.jinko.ai/api/#/paths/core-v2-scenario_manager-protocol_design/post)\n",
    "response = jinko.make_request(\n",
    "    path=\"/core/v2/scenario_manager/protocol_design\",\n",
    "    method=\"POST\",\n",
    "    json={\"scenarioArms\": scenario_arms},\n",
    "    options={\n",
    "        \"name\": \"protocol for BCG model\",\n",
    "        \"folder_id\": FOLDER_ID,  # Post the protocol\n",
    "    },\n",
    ")\n",
    "\n",
    "project_item_info = jinko.get_project_item_info_from_response(response)\n",
    "protocol_core_item_id = project_item_info[\"coreItemId\"][\"id\"]\n",
    "protocol_snapshot_id = project_item_info[\"coreItemId\"][\"snapshotId\"]\n",
    "\n",
    "print(f\"Protocol Resource link: {jinko.get_project_item_url_from_response(response)}\")"
   ]
  },
  {
   "cell_type": "markdown",
   "id": "ad77093f",
   "metadata": {
    "id": "ad77093f"
   },
   "source": [
    "# Step 5 : Post a Measure Design\n",
    "\n",
    "We define which time series we want to observe in the simulation"
   ]
  },
  {
   "cell_type": "code",
   "execution_count": null,
   "id": "51c334cd",
   "metadata": {
    "id": "51c334cd"
   },
   "outputs": [],
   "source": [
    "measures = [\n",
    "    {\"timeseriesId\": \"E\"},\n",
    "    {\"timeseriesId\": \"T\"},\n",
    "    {\"timeseriesId\": \"B\"},\n",
    "    {\"timeseriesId\": \"Ti\"},\n",
    "]"
   ]
  },
  {
   "cell_type": "code",
   "execution_count": null,
   "id": "3b849acb",
   "metadata": {
    "id": "3b849acb"
   },
   "outputs": [],
   "source": [
    "# uploading the measure design (https://doc.jinko.ai/api/#/paths/core-v2-scorings_manager-measure_design/post)\n",
    "response = jinko.make_request(\n",
    "    path=\"/core/v2/scorings_manager/measure_design\",\n",
    "    method=\"POST\",\n",
    "    json={\n",
    "        \"computationalModelId\": {\n",
    "            \"coreItemId\": model_core_item_id,\n",
    "            \"snapshotId\": model_snapshot_id,\n",
    "        },\n",
    "        \"measures\": measures,\n",
    "    },\n",
    "    options={\n",
    "        \"name\": \"measure design for BCG model\",\n",
    "        \"folder_id\": FOLDER_ID,\n",
    "    },\n",
    ")\n",
    "\n",
    "project_item_info = jinko.get_project_item_info_from_response(response)\n",
    "measure_design_core_item_id = project_item_info[\"coreItemId\"][\"id\"]\n",
    "measure_design_snapshot_id = project_item_info[\"coreItemId\"][\"snapshotId\"]\n",
    "\n",
    "print(\n",
    "    f\"Measure Design Resource link: {jinko.get_project_item_url_from_response(response)}\"\n",
    ")"
   ]
  },
  {
   "cell_type": "markdown",
   "id": "179fef2e",
   "metadata": {
    "id": "179fef2e"
   },
   "source": [
    "# Step 6 : Post a Trial"
   ]
  },
  {
   "cell_type": "code",
   "execution_count": null,
   "id": "dec630b2",
   "metadata": {
    "id": "dec630b2"
   },
   "outputs": [],
   "source": [
    "# uploading the trial (https://doc.jinko.ai/api/#/paths/core-v2-trial_manager-trial/post)\n",
    "response = jinko.make_request(\n",
    "    path=\"/core/v2/trial_manager/trial\",\n",
    "    method=\"POST\",\n",
    "    json={\n",
    "        \"computationalModelId\": {\n",
    "            \"coreItemId\": model_core_item_id,\n",
    "            \"snapshotId\": model_snapshot_id,\n",
    "        },\n",
    "        \"protocolDesignId\": {\n",
    "            \"coreItemId\": protocol_core_item_id,\n",
    "            \"snapshotId\": protocol_snapshot_id,\n",
    "        },\n",
    "        \"vpopId\": {\"coreItemId\": vpop_core_item_id, \"snapshotId\": vpop_snapshot_id},\n",
    "        \"measureDesignId\": {\n",
    "            \"coreItemId\": measure_design_core_item_id,\n",
    "            \"snapshotId\": measure_design_snapshot_id,\n",
    "        },\n",
    "    },\n",
    "    options={\n",
    "        \"name\": \"trial for BCG model\",\n",
    "        \"folder_id\": FOLDER_ID,\n",
    "    },\n",
    ")\n",
    "\n",
    "project_item_info = jinko.get_project_item_info_from_response(response)\n",
    "trial_core_item_id = project_item_info[\"coreItemId\"][\"id\"]\n",
    "trial_snapshot_id = project_item_info[\"coreItemId\"][\"snapshotId\"]\n",
    "\n",
    "print(f\"Trial Resource link: {jinko.get_project_item_url_from_response(response)}\")"
   ]
  },
  {
   "cell_type": "markdown",
   "id": "df357702",
   "metadata": {
    "id": "df357702"
   },
   "source": [
    "# Step 7 : Run and monitor a trial\n",
    "\n",
    "We are running the trial simulation"
   ]
  },
  {
   "cell_type": "code",
   "execution_count": null,
   "id": "f1aed5e4",
   "metadata": {
    "id": "f1aed5e4"
   },
   "outputs": [],
   "source": [
    "# running the trial (https://doc.jinko.ai/api/#/paths/core-v2-trial_manager-trial-coreItemId--snapshots--snapshotId--run/post)\n",
    "response = jinko.make_request(\n",
    "    path=f\"/core/v2/trial_manager/trial/{trial_core_item_id}/snapshots/{trial_snapshot_id}/run\",\n",
    "    method=\"POST\",\n",
    ")"
   ]
  },
  {
   "cell_type": "markdown",
   "id": "dbfad06c",
   "metadata": {
    "id": "dbfad06c"
   },
   "source": [
    "getting the trial status\n"
   ]
  },
  {
   "cell_type": "code",
   "execution_count": null,
   "id": "94701668",
   "metadata": {
    "id": "94701668"
   },
   "outputs": [],
   "source": [
    "# monitoring the trial status (https://doc.jinko.ai/docs/Tutorials/run-a-trial#monitoring-trial-status)\n",
    "jinko.monitor_trial_until_completion(trial_core_item_id, trial_snapshot_id)"
   ]
  },
  {
   "cell_type": "markdown",
   "id": "e5830ed8",
   "metadata": {
    "id": "e5830ed8"
   },
   "source": [
    "# Step 8 : Visualize the trial results\n",
    "\n",
    "Once the trial completed, we can download and visualize the results"
   ]
  },
  {
   "cell_type": "code",
   "execution_count": null,
   "id": "a53c5379",
   "metadata": {
    "id": "a53c5379"
   },
   "outputs": [],
   "source": [
    "# Retrieving results summary \n",
    "response = jinko.make_request(\n",
    "    \"/core/v2/trial_manager/trial/%s/snapshots/%s/results_summary\"\n",
    "    % (trial_core_item_id, trial_snapshot_id),\n",
    "    method=\"GET\",\n",
    ")\n",
    "responseSummary = json.loads(response.content.decode(\"utf-8\"))\n",
    "\n",
    "# Extracting arm names\n",
    "arm_names = responseSummary['arms']\n",
    "\n",
    "# retrieving the output ids (https://doc.jinko.ai/api/#/paths/core-v2-trial_manager-trial-coreItemId--snapshots--snapshotId--output_ids/get)\n",
    "response = jinko.make_request(\n",
    "    \"/core/v2/trial_manager/trial/%s/snapshots/%s/output_ids\"\n",
    "    % (trial_core_item_id, trial_snapshot_id),\n",
    "    method=\"GET\",\n",
    ")\n",
    "responseSummary = json.loads(response.content.decode(\"utf-8\"))\n",
    "display(\"Available time series:\", responseSummary)"
   ]
  },
  {
   "cell_type": "markdown",
   "id": "6ca275a7",
   "metadata": {
    "id": "6ca275a7"
   },
   "source": [
    "download the time series:"
   ]
  },
  {
   "cell_type": "code",
   "execution_count": null,
   "id": "ba414fe2",
   "metadata": {
    "id": "ba414fe2"
   },
   "outputs": [],
   "source": [
    "TIME_SERIES_IDS = [\"B\"]\n",
    "\n",
    "try:\n",
    "    print(\"Retrieving time series data...\")\n",
    "    # time series download (https://doc.jinko.ai/api/#/paths/core-v2-result_manager-trial-coreItemId--snapshots--snapshotId--timeseries-download/post)\n",
    "    response = jinko.make_request(\n",
    "        \"/core/v2/result_manager/trial/%s/snapshots/%s/timeseries/download\" % (\n",
    "            trial_core_item_id, trial_snapshot_id\n",
    "        ),\n",
    "        method='POST',\n",
    "        json={\n",
    "            \"timeseries\": {ts: arm_names for ts in TIME_SERIES_IDS},\n",
    "        },\n",
    "    )\n",
    "    if response.status_code == 200:\n",
    "        print(\"Time series data retrieved successfully.\")\n",
    "        archive = zipfile.ZipFile(io.BytesIO(response.content))\n",
    "        filename = archive.namelist()[0]\n",
    "        print(f\"Extracted time series file: {filename}\")\n",
    "        csvTimeSeries = archive.read(filename).decode(\"utf-8\")\n",
    "    else:\n",
    "        print(\n",
    "            f\"Failed to retrieve time series data: {response.status_code} - {response.reason}\"\n",
    "        )\n",
    "        response.raise_for_status()\n",
    "except Exception as e:\n",
    "    print(f\"Error during time series retrieval or processing: {e}\")\n",
    "    raise"
   ]
  },
  {
   "cell_type": "markdown",
   "id": "787d8131",
   "metadata": {
    "id": "787d8131"
   },
   "source": [
    "load the time series in a dataframe:"
   ]
  },
  {
   "cell_type": "code",
   "execution_count": null,
   "id": "413fda57",
   "metadata": {
    "id": "413fda57"
   },
   "outputs": [],
   "source": [
    "dfTimeSeries = pd.read_csv(io.StringIO(csvTimeSeries))\n",
    "display(dfTimeSeries.head(5))\n",
    "\n",
    "unique_patient_ids = dfTimeSeries[\"Patient Id\"].unique().tolist()"
   ]
  },
  {
   "cell_type": "markdown",
   "id": "dbdb22b2",
   "metadata": {
    "id": "dbdb22b2"
   },
   "source": [
    "plot the time series of the first patient:"
   ]
  },
  {
   "cell_type": "code",
   "execution_count": null,
   "id": "e6ec21de",
   "metadata": {
    "id": "e6ec21de"
   },
   "outputs": [],
   "source": [
    "patient_data = dfTimeSeries[dfTimeSeries[\"Patient Id\"] == unique_patient_ids[0]]\n",
    "\n",
    "# Plot each arm separately\n",
    "for arm, group in patient_data.groupby(\"Arm\"):\n",
    "    plt.plot(group[\"Time\"], group[\"Value\"], marker=\"o\", linestyle=\"-\", label=arm)\n",
    "\n",
    "# Customize the plot\n",
    "plt.title(\"Time Series of E\")\n",
    "plt.xlabel(\"Time (seconds)\")\n",
    "plt.ylabel(\"E\")\n",
    "plt.legend(title=\"Arm\")\n",
    "\n",
    "plt.show()"
   ]
  },
  {
   "cell_type": "markdown",
   "id": "6833a8d7",
   "metadata": {
    "id": "6833a8d7"
   },
   "source": [
    "# Hands On part:\n",
    "\n",
    " - create a protocol with 50 arms where Treatment BCG Dose varies from 1e5 to 1e6\n",
    " - post a new trial with this protocol\n",
    " - run the trial\n",
    " - plot the time series\n",
    "\n",
    " Have fun :)"
   ]
  }
 ],
 "metadata": {
  "colab": {
   "provenance": []
  },
  "kernelspec": {
   "display_name": "Python 3 (ipykernel)",
   "language": "python",
   "name": "python3"
  },
  "language_info": {
   "codemirror_mode": {
    "name": "ipython",
    "version": 3
   },
   "file_extension": ".py",
   "mimetype": "text/x-python",
   "name": "python",
   "nbconvert_exporter": "python",
   "pygments_lexer": "ipython3",
   "version": "3.12.9"
  }
 },
 "nbformat": 4,
 "nbformat_minor": 5
}
