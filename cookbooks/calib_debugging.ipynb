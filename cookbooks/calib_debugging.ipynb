{
 "cells": [
  {
   "cell_type": "code",
   "execution_count": null,
   "id": "138dd704-b7d0-42f4-867c-ea4f80c1adb3",
   "metadata": {},
   "outputs": [],
   "source": [
    "# Jinko specifics imports & initialization\n",
    "# Please fold this section and do not edit it\n",
    "import jinko_helpers as jinko\n",
    "import sys\n",
    "\n",
    "sys.path.insert(0, \"../lib\")\n",
    "\n",
    "# Connect to Jinko (see README.md for more options)\n",
    "jinko.initialize()"
   ]
  },
  {
   "cell_type": "code",
   "execution_count": null,
   "id": "b9944f60-72f7-40ae-b85a-af6ebbdcae7c",
   "metadata": {},
   "outputs": [],
   "source": [
    "# Cookbook specifics imports\n",
    "import json\n",
    "import io\n",
    "import zipfile\n",
    "import pandas as pd"
   ]
  },
  {
   "cell_type": "markdown",
   "id": "22ea9573",
   "metadata": {},
   "source": [
    "## Select calibration of interest"
   ]
  },
  {
   "cell_type": "code",
   "execution_count": null,
   "id": "77f9fedf",
   "metadata": {},
   "outputs": [],
   "source": [
    "\"\"\"\n",
    "An optional folder location to store debug files\n",
    "\"\"\"\n",
    "\n",
    "folder = \".\"\n",
    "# Set this to True to write debugging files\n",
    "write_files = True\n",
    "\n",
    "\"\"\" \n",
    "Calibration short id can be retrieved from the URL of your calibration in Jinko, pattern is `https://jinko.ai/<calibration_short_id>`\n",
    "\"\"\"\n",
    "calibration_short_id = \"ca-2MzC-vXzw\"\n",
    "# Choose a spefic revision. By default we return the last version\n",
    "revision = 5\n",
    "# Choose a specific label. By default we return the last version\n",
    "label = None\n",
    "response = jinko.get_project_item(\n",
    "    sid=calibration_short_id, revision=revision, label=label\n",
    ")\n",
    "calibration_core_item_id, calibration_snapshot_id = (\n",
    "    response[\"coreId\"][\"id\"],\n",
    "    response[\"coreId\"][\"snapshotId\"],\n",
    ")\n",
    "\n",
    "# # Uncomment the following if you want to use the latest completed or stopped version\n",
    "# response = jinko.get_latest_calib_with_status(shortId=calibration_short_id, statuses=[\"completed\", \"stopped\"])\n",
    "# calibration_core_item_id, calibration_snapshot_id = response[\"coreItemId\"], response[\"snapshotId\"]\n",
    "\n",
    "print(\n",
    "    f\"Picked Calibration with coreItemId: {calibration_core_item_id}, snapshotId: {calibration_snapshot_id}\"\n",
    ")\n",
    "\n",
    "status = jinko.make_request(\n",
    "    f\"/core/v2/calibration_manager/calibration/{calibration_core_item_id}/snapshots/{calibration_snapshot_id}/status\",\n",
    "    method=\"GET\",\n",
    ").text\n",
    "print(f\"It has status: {status}\")"
   ]
  },
  {
   "cell_type": "markdown",
   "id": "765053a5",
   "metadata": {},
   "source": [
    "## Debug data tables"
   ]
  },
  {
   "cell_type": "code",
   "execution_count": null,
   "id": "e9bd3a25",
   "metadata": {},
   "outputs": [],
   "source": [
    "sorted_patients = jinko.make_request(\n",
    "  path=f\"/core/v2/result_manager/calibration/{calibration_core_item_id}/snapshots/{calibration_snapshot_id}/sorted_patients\",\n",
    "  method=\"POST\",\n",
    "  json={\"sortBy\": \"optimizationWeightedScore\", \n",
    "        \"iteration\": 10}\n",
    ").json()\n",
    "if len(sorted_patients) > 0:\n",
    "    best_patient = sorted_patients[0]\n",
    "    print(f\"best_patient: {best_patient}\")\n",
    "\n",
    "    response = jinko.make_request(\n",
    "      path=f\"/core/v2/result_manager/calibration/{calibration_core_item_id}/snapshots/{calibration_snapshot_id}/augment_data_tables\",\n",
    "      method=\"POST\",\n",
    "      json={\"patientId\": best_patient[\"patientNumber\"], \n",
    "            \"iteration\": best_patient[\"iteration\"]}\n",
    "    )\n",
    "    archive = zipfile.ZipFile(io.BytesIO(response.content))\n",
    "    filenames = archive.namelist()\n",
    "    print(f'CSV files in archive: {filenames}')\n",
    "    for filename in filenames:\n",
    "      print(f'Extracting : {filename}')\n",
    "    csv_content = archive.read(filename).decode('utf-8')\n",
    "    datatable = pd.read_csv(io.StringIO(csv_content))\n",
    "    display(datatable)"
   ]
  }
 ],
 "metadata": {
  "kernelspec": {
   "display_name": "Python 3",
   "language": "python",
   "name": "python3"
  },
  "language_info": {
   "codemirror_mode": {
    "name": "ipython",
    "version": 3
   },
   "file_extension": ".py",
   "mimetype": "text/x-python",
   "name": "python",
   "nbconvert_exporter": "python",
   "pygments_lexer": "ipython3",
   "version": "3.12.10"
  }
 },
 "nbformat": 4,
 "nbformat_minor": 5
}
