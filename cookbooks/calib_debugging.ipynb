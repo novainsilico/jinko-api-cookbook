{
 "cells": [
  {
   "cell_type": "code",
   "execution_count": null,
   "id": "138dd704-b7d0-42f4-867c-ea4f80c1adb3",
   "metadata": {},
   "outputs": [],
   "source": [
    "# Jinko specifics imports & initialization\n",
    "# Please fold this section and do not edit it\n",
    "import jinko_helpers as jinko\n",
    "import sys\n",
    "\n",
    "sys.path.insert(0, \"../lib\")\n",
    "\n",
    "# Connect to Jinko (see README.md for more options)\n",
    "jinko.initialize()"
   ]
  },
  {
   "cell_type": "code",
   "execution_count": null,
   "id": "b9944f60-72f7-40ae-b85a-af6ebbdcae7c",
   "metadata": {},
   "outputs": [],
   "source": [
    "# Cookbook specifics imports\n",
    "import json\n",
    "import io\n",
    "import zipfile\n",
    "import pandas as pd"
   ]
  },
  {
   "cell_type": "markdown",
   "id": "22ea9573",
   "metadata": {},
   "source": [
    "## Select calibration of interest"
   ]
  },
  {
   "cell_type": "code",
   "execution_count": null,
   "id": "77f9fedf",
   "metadata": {},
   "outputs": [],
   "source": [
    "\"\"\"\n",
    "An optional folder location to store debug files\n",
    "\"\"\"\n",
    "\n",
    "folder = \".\"\n",
    "# Set this to True to write debugging files\n",
    "write_files = True\n",
    "\n",
    "\"\"\" \n",
    "Calibration short id can be retrieved from the URL of your calibration in Jinko, pattern is `https://jinko.ai/<calibration_short_id>`\n",
    "\"\"\"\n",
    "calibration_short_id = \"ca-hIAx-A64d\"\n",
    "# Choose a spefic revision. By default we return the last version\n",
    "revision = 19\n",
    "# Choose a specific label. By default we return the last version\n",
    "label = None\n",
    "response = jinko.get_project_item(\n",
    "    sid=calibration_short_id, revision=revision, label=label\n",
    ")\n",
    "calibration_core_item_id, calibration_snapshot_id = (\n",
    "    response[\"coreId\"][\"id\"],\n",
    "    response[\"coreId\"][\"snapshotId\"],\n",
    ")\n",
    "\n",
    "# # Uncomment the following if you want to use the latest completed or stopped version\n",
    "# response = jinko.get_latest_calib_with_status(shortId=calibration_short_id, statuses=[\"completed\", \"stopped\"])\n",
    "# calibration_core_item_id, calibration_snapshot_id = response[\"coreItemId\"], response[\"snapshotId\"]\n",
    "\n",
    "print(\n",
    "    f\"Picked Calibration with coreItemId: {calibration_core_item_id}, snapshotId: {calibration_snapshot_id}\"\n",
    ")\n",
    "\n",
    "status = jinko.make_request(\n",
    "    f\"/core/v2/calibration_manager/calibration/{calibration_core_item_id}/snapshots/{calibration_snapshot_id}/status\",\n",
    "    method=\"GET\",\n",
    ").text\n",
    "print(f\"It has status: {status}\")"
   ]
  },
  {
   "cell_type": "markdown",
   "id": "765053a5",
   "metadata": {},
   "source": [
    "## Debug data tables"
   ]
  },
  {
   "cell_type": "code",
   "execution_count": null,
   "id": "e9bd3a25",
   "metadata": {},
   "outputs": [],
   "source": [
    "sorted_patients = jinko.make_request(\n",
    "    path=f\"/core/v2/result_manager/calibration/{calibration_core_item_id}/snapshots/{calibration_snapshot_id}/sorted_patients\",\n",
    "    method=\"POST\",\n",
    "    json={\"sortBy\": \"optimizationWeightedScore\", \"iteration\": 10},\n",
    ").json()\n",
    "if len(sorted_patients) > 0:\n",
    "    best_patient = sorted_patients[0]\n",
    "    print(f\"best_patient: {best_patient}\")\n",
    "\n",
    "    response = jinko.make_request(\n",
    "        path=f\"/core/v2/result_manager/calibration/{calibration_core_item_id}/snapshots/{calibration_snapshot_id}/augment_data_tables\",\n",
    "        method=\"POST\",\n",
    "        json={\n",
    "            \"patientId\": best_patient[\"patientNumber\"],\n",
    "            \"iteration\": best_patient[\"iteration\"],\n",
    "        },\n",
    "    )\n",
    "    archive = zipfile.ZipFile(io.BytesIO(response.content))\n",
    "    filenames = archive.namelist()\n",
    "    print(f\"CSV files in archive: {filenames}\")\n",
    "    for filename in filenames:\n",
    "        print(f\"Extracting : {filename}\")\n",
    "    csv_content = archive.read(filename).decode(\"utf-8\")\n",
    "    datatable = pd.read_csv(io.StringIO(csv_content))\n",
    "    display(datatable)"
   ]
  },
  {
   "cell_type": "markdown",
   "id": "01b0bb3a",
   "metadata": {},
   "source": [
    "## Debug scoring or solving errors"
   ]
  },
  {
   "cell_type": "code",
   "execution_count": null,
   "id": "a6c7ebca",
   "metadata": {},
   "outputs": [],
   "source": [
    "# Choose the iteration number you wish to debug, 1 is a good guess if you do not know where to start\n",
    "iteration = 1\n",
    "\n",
    "scoring_errors = jinko.make_request(\n",
    "    path=f\"/core/v2/result_manager/calibration/{calibration_core_item_id}/snapshots/{calibration_snapshot_id}/errors\",\n",
    "    method=\"POST\",\n",
    "    json={\"scalarId\": \"optimizationWeightedScore\", \"iteration\": iteration},\n",
    ").json()\n",
    "if len(scoring_errors[\"errors\"]) <= 0:\n",
    "    print(\"No error for this iteration\")\n",
    "else:\n",
    "    first_error = scoring_errors[\"errors\"][0]\n",
    "    patient_id = first_error[\"patientId\"]\n",
    "    print(f\"Patient {patient_id} has an error:\\n{first_error[\"scoringError\"]}\")"
   ]
  },
  {
   "cell_type": "markdown",
   "id": "54c4becb",
   "metadata": {},
   "source": [
    "Based on the above information, you may want to inspect the solver output for a given timeseries ID on a given protocol arm. \n",
    "Ideally we should be able to parse the above message and extract the relevant information but for now you will have \n",
    "to input these manually yourself.\n",
    "\n",
    "In the above example, the message is \"constituent DefaultComp.CO_2 on arm baz is missing from the scoring evaluation context\"\n",
    "so the protocol arm ID is \"baz\" and the timeseries ID is \"DefaultComp.CO_2\""
   ]
  },
  {
   "cell_type": "code",
   "execution_count": null,
   "id": "0a8ed798",
   "metadata": {},
   "outputs": [],
   "source": [
    "# protocol arm ID of interest\n",
    "arm_id = \"baz\"\n",
    "# timeseries ID of interest\n",
    "timeseries_id = \"DefaultComp.CO_2\"\n",
    "\n",
    "model_results = jinko.make_request(\n",
    "    path=f\"/core/v2/result_manager/calibration/{calibration_core_item_id}/snapshots/{calibration_snapshot_id}/timeseries/per_patient\",\n",
    "    method=\"POST\",\n",
    "    json={\"iteration\": iteration, \"patientId\": patient_id, \"select\": [timeseries_id]},\n",
    ").json()\n",
    "model_result = next(\n",
    "    (item for item in model_results if item[\"scenarioArm\"] == arm_id), None\n",
    ")\n",
    "if model_result is None:\n",
    "    print(f\"No ModelResult found for arm {arm_id}\")\n",
    "else:\n",
    "    print(model_result[\"error\"])"
   ]
  }
 ],
 "metadata": {
  "kernelspec": {
   "display_name": "Python 3",
   "language": "python",
   "name": "python3"
  },
  "language_info": {
   "codemirror_mode": {
    "name": "ipython",
    "version": 3
   },
   "file_extension": ".py",
   "mimetype": "text/x-python",
   "name": "python",
   "nbconvert_exporter": "python",
   "pygments_lexer": "ipython3",
   "version": "3.12.10"
  }
 },
 "nbformat": 4,
 "nbformat_minor": 5
}
