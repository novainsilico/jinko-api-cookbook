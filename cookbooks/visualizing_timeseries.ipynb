{
 "cells": [
  {
   "cell_type": "markdown",
   "id": "97de1512",
   "metadata": {},
   "source": [
    "# Visualizing time series\n",
    "\n",
    "## Introduction\n",
    "\n",
    "This cookbook will guide you through the creation of a simple visualization from an existing trial in jinko.  \n",
    "In particular, you will be able to retrieve time series and plot them using plotly.  \n",
    "\n",
    "\n",
    "Linked resources: [Jinko](https://jinko.ai/project/e0fbb5bb-8929-439a-bad6-9e12d19d9ae4?labels=24574ece-6bde-4d76-896a-187426965a51)."
   ]
  },
  {
   "cell_type": "code",
   "execution_count": null,
   "id": "f4a8a8c1",
   "metadata": {},
   "outputs": [],
   "source": [
    "# Jinko specifics imports & initialization\n",
    "# Please fold this section and do not change\n",
    "import jinko_helpers as jinko\n",
    "\n",
    "# Connect to Jinko (see README.md for more options)\n",
    "jinko.initialize()"
   ]
  },
  {
   "cell_type": "code",
   "execution_count": null,
   "id": "b8a8364c",
   "metadata": {},
   "outputs": [],
   "source": [
    "# Cookbook specifics imports\n",
    "\n",
    "import io\n",
    "import json\n",
    "import pandas as pd\n",
    "import plotly.express as px\n",
    "import plotly.io as pio\n",
    "import zipfile\n",
    "\n",
    "# Cookbook specifics constants\n",
    "\n",
    "# @param {\"name\":\"trialId\", \"type\": \"string\"}\n",
    "# Fill the short Id of your Trial (ex: tr-EKRx-3HRt)\n",
    "trialId = \"tr-OxkW-mB8I\""
   ]
  },
  {
   "cell_type": "markdown",
   "id": "1f6ec429",
   "metadata": {},
   "source": [
    "## Let's use the API and plot the data"
   ]
  },
  {
   "cell_type": "markdown",
   "id": "2fc5ed2a",
   "metadata": {},
   "source": [
    "### Load the trial"
   ]
  },
  {
   "cell_type": "code",
   "execution_count": null,
   "id": "93bf3446",
   "metadata": {},
   "outputs": [],
   "source": [
    "if trialId is None:\n",
    "    raise Exception(\"Please specify a Trial Id\")\n",
    "else:\n",
    "    print(f\"Using Trial ID: {trialId}\")\n",
    "\n",
    "# Convert short Id to coreItemId\n",
    "try:\n",
    "    coreItemId = jinko.get_core_item_id(trialId, 1)\n",
    "except Exception as e:\n",
    "    print(f\"Failed to find corresponding trial, check the trialId\")\n",
    "    raise\n",
    "\n",
    "# List all Trial versions (https://doc.jinko.ai/api/#/paths/core-v2-trial_manager-trial-status/post)\n",
    "try:\n",
    "    trialVersions = jinko.make_request(\n",
    "        f'/core/v2/trial_manager/trial/{coreItemId[\"id\"]}/status'\n",
    "    ).json()\n",
    "    print(f\"Fetched {len(trialVersions)} versions for the trial.\")\n",
    "except Exception as e:\n",
    "    print(f\"Error fetching trial versions: {e}\")\n",
    "    raise\n",
    "\n",
    "# Get the latest completed version\n",
    "try:\n",
    "    latestCompletedVersion = next(\n",
    "        (item for item in trialVersions if item[\"status\"] == \"completed\"), None\n",
    "    )\n",
    "    if latestCompletedVersion is None:\n",
    "        raise Exception(\"No completed Trial version found\")\n",
    "    else:\n",
    "        print(\n",
    "            \"Successfully fetched this simulation:\\n\",\n",
    "            json.dumps(latestCompletedVersion, indent=1),\n",
    "        )\n",
    "        # Store the trial Id and the snapshot Id to use in the API requests\n",
    "        simulationId = latestCompletedVersion[\"simulationId\"]\n",
    "        trialId = simulationId[\"coreItemId\"]\n",
    "        trialSnapshotId = simulationId[\"snapshotId\"]\n",
    "except Exception as e:\n",
    "    print(f\"Error processing trial versions: {e}\")\n",
    "    raise"
   ]
  },
  {
   "cell_type": "markdown",
   "id": "f115b8af",
   "metadata": {},
   "source": [
    "### Display a results summary"
   ]
  },
  {
   "cell_type": "code",
   "execution_count": null,
   "id": "bc0b3f84",
   "metadata": {},
   "outputs": [],
   "source": [
    "responseSummary = jinko.get_trial_scalars_summary(trialId, trialSnapshotId, print_summary=True)\n",
    "\n",
    "armNames = responseSummary['arms']\n",
    "\n",
    "# Store the list of scenario descriptors fetch them\n",
    "scenarioDescriptors = [\n",
    "    scalar[\"id\"]\n",
    "    for scalar in (responseSummary[\"scalars\"] + responseSummary[\"categoricals\"])\n",
    "    if \"ScenarioOverride\" in scalar[\"type\"][\"labels\"]\n",
    "]\n",
    "print(\"List of scenario overrides:\\n\", scenarioDescriptors, \"\\n\")"
   ]
  },
  {
   "cell_type": "markdown",
   "id": "cb7a6106",
   "metadata": {},
   "source": [
    "### Download time series and scalars results data"
   ]
  },
  {
   "cell_type": "code",
   "execution_count": null,
   "id": "205ea632",
   "metadata": {},
   "outputs": [],
   "source": [
    "# Retrieve time series ids (https://doc.jinko.ai/api/#/paths/core-v2-trial_manager-trial-trialId--snapshots--trialIdSnapshot--output_ids/get)\n",
    "\n",
    "response = jinko.make_request(\n",
    "    \"/core/v2/trial_manager/trial/%s/snapshots/%s/output_ids\"\n",
    "    % (trialId, trialSnapshotId),\n",
    "    method=\"GET\",\n",
    ")\n",
    "responseSummary = json.loads(response.content.decode(\"utf-8\"))\n",
    "print(\"Available time series:\\n\", responseSummary, \"\\n\")"
   ]
  },
  {
   "cell_type": "code",
   "execution_count": null,
   "id": "7a9a222a-e9a6-44ac-bdb8-2dd87cfb2fa2",
   "metadata": {
    "tags": []
   },
   "outputs": [],
   "source": [
    "# Retrieve time series (https://doc.jinko.ai/api/#/paths/core-v2-result_manager-timeseries_summary/post)\n",
    "\n",
    "# replace here by the time series ids list you want\n",
    "idsForTimeSeries = [x[\"id\"] for x in responseSummary]\n",
    "\n",
    "try:\n",
    "    print(\"Retrieving time series data...\")\n",
    "    response = jinko.make_request(\n",
    "        \"/core/v2/result_manager/trial/%s/snapshots/%s/timeseries/download\" % (\n",
    "            trialId, trialSnapshotId\n",
    "        ),\n",
    "        method='POST',\n",
    "        json={\n",
    "            \"timeseries\": {ts: armNames for ts in idsForTimeSeries},\n",
    "        },\n",
    "    )\n",
    "    if response.status_code == 200:\n",
    "        print(\"Time series data retrieved successfully.\")\n",
    "        archive = zipfile.ZipFile(io.BytesIO(response.content))\n",
    "        filename = archive.namelist()[0]\n",
    "        print(f\"Extracted time series file: {filename}\")\n",
    "        csvTimeSeries = archive.read(filename).decode(\"utf-8\")\n",
    "    else:\n",
    "        print(\n",
    "            f\"Failed to retrieve time series data: {response.status_code} - {response.reason}\"\n",
    "        )\n",
    "        response.raise_for_status()\n",
    "except Exception as e:\n",
    "    print(f\"Error during time series retrieval or processing: {e}\")\n",
    "    raise"
   ]
  },
  {
   "cell_type": "markdown",
   "id": "42410425",
   "metadata": {},
   "source": [
    "### Postprocess the data in a pandas dataframe\n",
    "\n",
    "data us post processed using pandas library, and transform into a table that can easily be plotted. "
   ]
  },
  {
   "cell_type": "code",
   "execution_count": null,
   "id": "c28a055c-280b-4497-bd43-e4f8429232c2",
   "metadata": {
    "tags": []
   },
   "outputs": [],
   "source": [
    "# Load timeseries into a dataframe\n",
    "dfTimeSeries = pd.read_csv(io.StringIO(csvTimeSeries))\n",
    "print(\"Raw timeseries data (first rows): \\n\")\n",
    "display(dfTimeSeries.head())\n",
    "\n",
    "# Load scalars into a dataframe\n",
    "dfScalars = jinko.get_trial_scalars_as_dataframe(\n",
    "    latestCompletedVersion[\"simulationId\"][\"coreItemId\"], latestCompletedVersion[\"simulationId\"][\"snapshotId\"], scalar_ids=scenarioDescriptors\n",
    ")\n",
    "print(\"\\nRaw scalar data (first rows):\\n\")\n",
    "display(dfScalars.head())\n",
    "\n",
    "# Pivot to a wide format to obtain protocol overrides in columns\n",
    "dfScalars = dfScalars.pivot(\n",
    "    index=[\"armId\", \"patientId\"], columns=\"scalarId\", values=\"value\"\n",
    ")\n",
    "\n",
    "print(\"\\nPivotted scalar table (first rows): \\n\")\n",
    "display(dfScalars.head())\n",
    "\n",
    "# Merge both tables together to obtain protocol descriptors per arm\n",
    "df = dfTimeSeries.merge(\n",
    "    right=dfScalars, left_on=[\"Patient Id\", \"Arm\"], right_on=[\"patientId\", \"armId\"]\n",
    ")\n",
    "\n",
    "print(\"\\nMerged table (first rows): \\n\")\n",
    "display(df.head())\n",
    "\n",
    "# Convert time to days\n",
    "df[\"Time\"] = df[\"Time\"].map(lambda x: x / (60 * 60 * 24))\n",
    "\n",
    "# Filter the data set to keep only the variable we would like to plot\n",
    "dfToPlot = df.query('Descriptor==\"Blood.Drug\"')"
   ]
  },
  {
   "cell_type": "markdown",
   "id": "720e4a1f",
   "metadata": {},
   "source": [
    "### Plot the data\n",
    "\n",
    "Finally we plot the time series data by facetting over scenario overrides. "
   ]
  },
  {
   "cell_type": "code",
   "execution_count": null,
   "id": "e768c432-016a-49a1-9e83-fdccdbae13bc",
   "metadata": {
    "tags": []
   },
   "outputs": [],
   "source": [
    "# replace with the most adapated renderer for your notebook (#print(pio.renderers) to get the available list)\n",
    "pio.renderers.default = \"vscode\"  # for running in vs code\n",
    "# pio.renderers.default = 'iframe' # for running in jupyter lab\n",
    "\n",
    "# adapt the plot to your ids\n",
    "fig = px.line(\n",
    "    dfToPlot,\n",
    "    x=\"Time\",\n",
    "    y=\"Value\",\n",
    "    facet_col=\"fullDose.tmin\",\n",
    "    facet_row=\"primingDose.tmin\",\n",
    "    color=\"administrationMode\",\n",
    "    labels={\n",
    "        \"Time\": \"Time (days)\",\n",
    "        \"Value\": \"Concentration (µg/mL)\",\n",
    "        \"fullDose.tmin\": \"Full dose (mg)\",\n",
    "        \"primingDose.tmin\": \"Priming dose (mg)\",\n",
    "        \"administrationMode\": \"Administration\",\n",
    "    },\n",
    "    log_y=True,\n",
    "    height=600,\n",
    ")\n",
    "fig.show()"
   ]
  }
 ],
 "metadata": {
  "kernelspec": {
   "display_name": "jinko-api-cookbook-qhtqbAjx-py3.12",
   "language": "python",
   "name": "python3"
  },
  "language_info": {
   "codemirror_mode": {
    "name": "ipython",
    "version": 3
   },
   "file_extension": ".py",
   "mimetype": "text/x-python",
   "name": "python",
   "nbconvert_exporter": "python",
   "pygments_lexer": "ipython3",
   "version": "3.12.4"
  }
 },
 "nbformat": 4,
 "nbformat_minor": 5
}
