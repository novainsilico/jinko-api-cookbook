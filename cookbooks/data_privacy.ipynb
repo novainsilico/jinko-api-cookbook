{
 "cells": [
  {
   "cell_type": "markdown",
   "id": "737e594c-703d-4171-b8ea-8903b36310db",
   "metadata": {},
   "source": [
    "# Using the API with sensitive data stored locally or on a secure server (Jinkompute)\n",
    "\n",
    "## Introduction\n",
    "\n",
    "One might want to compare simulation outputs with sensitive real-life data without uploading the latter on jinko and relying the data-overlay features. This cookbook will show how to load data stored either locally, or on a secure FTP. As an example, we will display the latter side by side with simulated data coming from jinko."
   ]
  },
  {
   "cell_type": "code",
   "execution_count": null,
   "id": "1900b18d-54db-4bd7-9172-2b4e5142b90d",
   "metadata": {},
   "outputs": [],
   "source": [
    "# Jinko specifics imports & initialization\n",
    "# Please fold this section and do not change\n",
    "import jinko_helpers as jinko\n",
    "\n",
    "# Connect to Jinko (see README.md for more options)\n",
    "jinko.initialize()"
   ]
  },
  {
   "cell_type": "code",
   "execution_count": null,
   "id": "dd14926d-ad3e-4e70-921f-50b45fc2e109",
   "metadata": {},
   "outputs": [],
   "source": [
    "# Cookbook specific imports\n",
    "import io\n",
    "import json\n",
    "import numpy as np\n",
    "import os\n",
    "import pandas as pd\n",
    "import plotly.graph_objects as go\n",
    "import zipfile\n",
    "\n",
    "# Cookbook specific constants:\n",
    "# Put here the constants that are specific to your cookbook like\n",
    "# the reference to the Jinko items, the name of the model, etc.\n",
    "\n",
    "# The trial's short id can be retrieved in the url, pattern is `https://jinko.ai/<trail_sid>`\n",
    "trial_sid = 'tr-OxkW-mB8I'"
   ]
  },
  {
   "cell_type": "markdown",
   "id": "2b928b41-84a7-437d-9d76-eae74e4cdf55",
   "metadata": {},
   "source": [
    "## Step 1 : Loading simulated data"
   ]
  },
  {
   "cell_type": "code",
   "execution_count": null,
   "id": "e6d4eb18-d91b-4752-9a6a-dcef7e812eef",
   "metadata": {},
   "outputs": [],
   "source": [
    "core_item_id = jinko.get_core_item_id(trial_sid)\n",
    "trial_versions = jinko.make_request(\n",
    "    f'/core/v2/trial_manager/trial/{core_item_id['id']}/status', params={\"statuses\": \"completed\"}\n",
    ").json()"
   ]
  },
  {
   "cell_type": "code",
   "execution_count": null,
   "id": "9bb0edbb",
   "metadata": {},
   "outputs": [],
   "source": [
    "if trial_sid is None:\n",
    "    raise Exception('Please specify a Trial Id')\n",
    "else:\n",
    "    print(f'Using Trial ID: {trial_sid}')\n",
    "\n",
    "# Converting short Id to coreItemId\n",
    "try:\n",
    "    core_item_id = jinko.get_core_item_id(trial_sid, 1)\n",
    "except Exception as e:\n",
    "    print(f'Failed to find corresponding trial, check the trial_id')\n",
    "    raise\n",
    "\n",
    "# Listing all trial versions\n",
    "try:\n",
    "    trial_versions = jinko.make_request(\n",
    "        f'/core/v2/trial_manager/trial/{core_item_id['id']}/status', params={\"statuses\": \"completed\"}\n",
    "    ).json()\n",
    "    print(f'Fetched {len(trial_versions)} completed versions for the trial.')\n",
    "except Exception as e:\n",
    "    print(f'Error fetching trial versions: {e}')\n",
    "    raise\n",
    "\n",
    "# Get the latest completed version\n",
    "try:\n",
    "    latest_completed_version = next(\n",
    "        (item for item in trial_versions if item['status']\n",
    "         == 'completed'), None\n",
    "    )\n",
    "    if latest_completed_version is None:\n",
    "        raise Exception('No completed Trial version found')\n",
    "    else:\n",
    "        print(\n",
    "            'Successfully fetched this simulation:\\n',\n",
    "            json.dumps(latest_completed_version, indent=1),\n",
    "        )\n",
    "        # Store the trial Id and the snapshot Id to use in the API requests\n",
    "        simulation_id = latest_completed_version['simulationId']\n",
    "        trial_core_item_id = simulation_id['coreItemId']\n",
    "        trial_snapshot_id = simulation_id['snapshotId']\n",
    "except Exception as e:\n",
    "    print(f'Error processing trial versions: {e}')\n",
    "    raise\n",
    "\n",
    "# Retrieving results summary \n",
    "responseSummary = jinko.get_trial_scalars_summary(trial_core_item_id, trial_snapshot_id, print_summary=False)\n",
    "\n",
    "# Extracting arm names\n",
    "arm_names = responseSummary['arms']\n",
    "\n",
    "# Storing the list of scenario descriptors to fetch them\n",
    "scenarioDescriptors = [\n",
    "    scalar['id']\n",
    "    for scalar in (responseSummary['scalars'] + responseSummary['categoricals'])\n",
    "    if 'ScenarioOverride' in scalar['type']['labels']\n",
    "]\n",
    "print('List of scenario overrides:\\n', scenarioDescriptors, '\\n')\n",
    "\n",
    "# Downloading time series\n",
    "response = jinko.make_request(\n",
    "    '/core/v2/trial_manager/trial/%s/snapshots/%s/output_ids'\n",
    "    % (trial_core_item_id, trial_snapshot_id),\n",
    "    method='GET',\n",
    ")\n",
    "responseSummary = json.loads(response.content.decode('utf-8'))\n",
    "print('Available time series:\\n', responseSummary, '\\n')\n",
    "\n",
    "idsForTimeSeries = [x['id'] for x in responseSummary]\n",
    "\n",
    "try:\n",
    "    print('Retrieving time series data...')\n",
    "    response = jinko.make_request(\n",
    "        \"/core/v2/result_manager/trial/%s/snapshots/%s/timeseries/download\" % (\n",
    "            trial_core_item_id, trial_snapshot_id\n",
    "        ),\n",
    "        method='POST',\n",
    "        json={\n",
    "            \"timeseries\": {ts: arm_names for ts in idsForTimeSeries},\n",
    "        },\n",
    "    )\n",
    "    if response.status_code == 200:\n",
    "        print('Time series data retrieved successfully.')\n",
    "        archive = zipfile.ZipFile(io.BytesIO(response.content))\n",
    "        filename = archive.namelist()[0]\n",
    "        print(f'Extracted time series file: {filename}')\n",
    "        csvTimeSeries = archive.read(filename).decode('utf-8')\n",
    "    else:\n",
    "        print(\n",
    "            f'Failed to retrieve time series data: {response.status_code} - {response.reason}'\n",
    "        )\n",
    "        response.raise_for_status()\n",
    "except Exception as e:\n",
    "    print(f'Error during time series retrieval or processing: {e}')\n",
    "    raise"
   ]
  },
  {
   "cell_type": "markdown",
   "id": "357598f4-5611-4c68-a8f5-98db12f06542",
   "metadata": {},
   "source": [
    "## Step 2 : Post-processing simulations"
   ]
  },
  {
   "cell_type": "code",
   "execution_count": null,
   "id": "79c9da17-ddd5-4592-a0e2-e270cb544829",
   "metadata": {},
   "outputs": [],
   "source": [
    "# Loading timeseries into a dataframe\n",
    "df_time_series = pd.read_csv(io.StringIO(csvTimeSeries))\n",
    "\n",
    "print(df_time_series['Patient Id'].unique())\n",
    "display(df_time_series.head())\n",
    "\n",
    "# Pivotting to a wide format to obtain protocol overrides in columns\n",
    "df_time_series = df_time_series.pivot(\n",
    "    index=['Patient Id', 'Arm', 'Time'], columns='Descriptor', values='Value'\n",
    ")\n",
    "\n",
    "df_time_series = df_time_series.drop(columns=['Time'])\n",
    "df_time_series = df_time_series.reset_index()\n",
    "\n",
    "# Converting time to days\n",
    "df_time_series['Time'] = df_time_series['Time'].map(\n",
    "    lambda x: x / (60 * 60 * 24))\n",
    "\n",
    "print('Timeseries data (first rows): \\n')\n",
    "display(df_time_series.head())"
   ]
  },
  {
   "cell_type": "markdown",
   "id": "efb4dd91-3b96-4727-b044-e6a681c1b2a7",
   "metadata": {},
   "source": [
    "## Step 3 : Importing local data\n",
    "### Step 3.1 : Creating fake real-life observations"
   ]
  },
  {
   "cell_type": "code",
   "execution_count": null,
   "id": "851ce113-1480-49dd-adba-68f452a78c89",
   "metadata": {},
   "outputs": [],
   "source": [
    "# Creating 'fake real-life' data based on the simulated one with added noise.\n",
    "# Only the drug dose variable will be used in this cookbook.\n",
    "df_fake_time_series = df_time_series[['Arm', 'Blood.Drug', 'Time']].copy()\n",
    "display(df_fake_time_series.head())\n",
    "\n",
    "# Adding positive gaussian noise to blood drug values\n",
    "df_fake_time_series['Blood.Drug'] = df_fake_time_series['Blood.Drug'].apply(\n",
    "    lambda x: x + x * 0.5 * np.random.random_sample(1))\n",
    "df_fake_time_series['Blood.Drug'] = np.around(\n",
    "    np.concatenate(df_fake_time_series['Blood.Drug']), 6).tolist()\n",
    "display(df_fake_time_series.head())\n",
    "\n",
    "# Writing the csv file at the location of the cookbook\n",
    "current_path = os.getcwd()\n",
    "df_fake_time_series.to_csv(path_or_buf=current_path + '/fake_real_data.csv')\n",
    "del df_fake_time_series"
   ]
  },
  {
   "cell_type": "markdown",
   "id": "5e063195-91b9-4400-9af5-edf926ca323a",
   "metadata": {},
   "source": [
    "### Step 3.2 : Loading the data\n",
    "#### Local data"
   ]
  },
  {
   "cell_type": "code",
   "execution_count": null,
   "id": "753828ea-4a04-45b6-b3be-b77fbcc6de91",
   "metadata": {},
   "outputs": [],
   "source": [
    "# As mentionnend in the previous chunk, for convenience, data is stored in the same folder as the jupyter notebook\n",
    "df_real_data = pd.read_csv('fake_real_data.csv')\n",
    "\n",
    "# Removing the csv now that the data has been loaded\n",
    "os.remove('fake_real_data.csv')"
   ]
  },
  {
   "cell_type": "markdown",
   "id": "c8e14dd5-3b2b-41e8-a7e2-728cd69e84b8",
   "metadata": {},
   "source": [
    "#### Data on jinkompute"
   ]
  },
  {
   "cell_type": "markdown",
   "id": "b3a715b0-0506-48cf-9aac-544bd2f2f5b8",
   "metadata": {},
   "source": [
    "To load data from Jinkompute, the procedure to follow would be the same once the connection to an instance has been established. If you are working remotely, you will first have to connect to the VPN via [TailScale](https://docs.google.com/document/d/1n4wvFvEO-cVJxi5TLpIgqP3C_l5HB5IqvfjwStRLhaw/edit), then use the `jinkompute-mount` command to mount the Jinkompute server as a local hard drive."
   ]
  },
  {
   "cell_type": "markdown",
   "id": "241df49c-4b93-43cd-8ba2-52ddd8d33908",
   "metadata": {},
   "source": [
    "### Step 4 : Using the data\n",
    "Now that the data has been loaded, one is free to use it in various ways. For this cookbook, we will simply plot a part of our 'real-life' data side by side with the simulations, as an example. Only the iv-0.1-10 dose will be used."
   ]
  },
  {
   "cell_type": "code",
   "execution_count": null,
   "id": "babbee0d-6a05-43fd-bcd9-27977bcd81ce",
   "metadata": {},
   "outputs": [],
   "source": [
    "# Plotting the data\n",
    "# Creating the initial figure\n",
    "fig = go.Figure()\n",
    "\n",
    "# Adding the first line, representing simulated data\n",
    "fig.add_trace(go.Scatter(x=df_time_series['Time'][df_time_series['Arm'] == 'iv-0.1-10'],\n",
    "                         y=df_time_series['Blood.Drug'][df_time_series['Arm']\n",
    "                                                        == 'iv-0.1-10'],\n",
    "                         mode='lines',\n",
    "                         name='Simulated data',\n",
    "                         line=dict(color='red')))\n",
    "\n",
    "# Adding the second line for observed data\n",
    "fig.add_trace(go.Scatter(x=df_real_data['Time'][df_real_data['Arm'] == 'iv-0.1-10'],\n",
    "                         y=df_real_data['Blood.Drug'][df_real_data['Arm']\n",
    "                                                      == 'iv-0.1-10'],\n",
    "                         mode='lines',\n",
    "                         name='Observed data',\n",
    "                         line=dict(color='blue')))\n",
    "\n",
    "# Updating the labels\n",
    "fig.update_layout(\n",
    "    title='Comparison of simulated and observed blood drug concentrations',\n",
    "    xaxis_title='Time (days)',\n",
    "    yaxis_title='Drug concentration (µg/mL)'\n",
    ")\n",
    "\n",
    "# Displaying the figure\n",
    "fig.show()"
   ]
  }
 ],
 "metadata": {
  "kernelspec": {
   "display_name": "Python 3 (ipykernel)",
   "language": "python",
   "name": "python3"
  },
  "language_info": {
   "codemirror_mode": {
    "name": "ipython",
    "version": 3
   },
   "file_extension": ".py",
   "mimetype": "text/x-python",
   "name": "python",
   "nbconvert_exporter": "python",
   "pygments_lexer": "ipython3",
   "version": "3.12.9"
  }
 },
 "nbformat": 4,
 "nbformat_minor": 5
}
