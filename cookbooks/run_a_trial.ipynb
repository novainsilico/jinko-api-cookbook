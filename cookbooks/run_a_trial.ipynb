{
 "cells": [
  {
   "cell_type": "markdown",
   "id": "97de1512",
   "metadata": {},
   "source": [
    "# From CM to trial results\n",
    "\n",
    "## Introduction\n",
    "\n",
    "Goal of this cookbook is to illustrate how one can post the material needed for a trial, run it and visualize the results.\n",
    "\n",
    "Steps: \n",
    "1. Post a Computational Model\n",
    "2. Create a Virtual Population (Vpop) Design\n",
    "3. Generate a Vpop from the Vpop Design\n",
    "4. Post a Protocol\n",
    "5. Post a Data Table\n",
    "6. Post a Trial\n",
    "7. Run and monitor a Trial\n",
    "8. Visualize the trial results\n",
    "\n",
    "Linked resources: \n",
    "- [Folder on jinko](https://jinko.ai/project/e0fbb5bb-8929-439a-bad6-9e12d19d9ae4)."
   ]
  },
  {
   "cell_type": "code",
   "execution_count": null,
   "id": "f4a8a8c1",
   "metadata": {},
   "outputs": [],
   "source": [
    "# Jinko specifics imports & initialization\n",
    "# Please fold this section and do not change\n",
    "import jinko_helpers as jinko\n",
    "\n",
    "# Connect to Jinko (see README.md for more options)\n",
    "jinko.initialize()"
   ]
  },
  {
   "cell_type": "code",
   "execution_count": null,
   "id": "b8a8364c",
   "metadata": {},
   "outputs": [],
   "source": [
    "# Cookbook specifics imports\n",
    "\n",
    "import io\n",
    "import json\n",
    "import os\n",
    "import pandas as pd\n",
    "import plotly.express as px\n",
    "import zipfile\n",
    "\n",
    "# Cookbook specifics constants:\n",
    "# put here the constants that are specific to your cookbook like\n",
    "# the reference to the Jinko items, the name of the model, etc.\n",
    "\n",
    "# @param {\"name\":\"folderId\", \"type\": \"string\"}\n",
    "# folder_id can be retrieved in the url, pattern is `https://jinko.ai/project/<project_id>?labels=<folder_id>`\n",
    "folder_id = \"5f573c8f-3f48-4c48-8257-f884837e5605\"\n",
    "\n",
    "resources_dir = os.path.normpath(\"resources/run_a_trial\")\n",
    "\n",
    "model_file = os.path.join(resources_dir, \"computational_model.json\")\n",
    "model_file_copy = os.path.join(resources_dir, \"computational_model_copy.json\")\n",
    "\n",
    "solving_options_file = os.path.join(resources_dir, \"solving_options.json\")\n",
    "vpop_file = os.path.join(resources_dir, \"vpop.csv\")\n",
    "protocol_file = os.path.join(resources_dir, \"protocol.json\")\n",
    "data_table_file = os.path.join(resources_dir, \"data_table.csv\")"
   ]
  },
  {
   "cell_type": "markdown",
   "id": "cb7a6106",
   "metadata": {},
   "source": [
    "# Step 1: Post a Computational Model"
   ]
  },
  {
   "cell_type": "code",
   "execution_count": null,
   "id": "6dd9f681",
   "metadata": {},
   "outputs": [],
   "source": [
    "# Load the model\n",
    "with open(model_file, \"r\") as f:\n",
    "    model = json.load(f)\n",
    "\n",
    "# Load the solving options\n",
    "with open(solving_options_file, \"r\") as f:\n",
    "    solving_options = json.load(f)\n",
    "\n",
    "# Post the model with its options\n",
    "# https://doc.jinko.ai/api/#/paths/core-v2-model_manager-jinko_model/post\n",
    "response = jinko.make_request(\n",
    "    path=\"/core/v2/model_manager/jinko_model\",\n",
    "    method=\"POST\",\n",
    "    json={\"model\": model, \"solvingOptions\": solving_options},\n",
    "    options={\"name\": \"simple tumor model\", \"folder_id\": folder_id},\n",
    ")\n",
    "\n",
    "# Get the ids of the resource\n",
    "project_item_info = jinko.get_project_item_info_from_response(response)\n",
    "model_core_item_id = project_item_info[\"coreItemId\"][\"id\"]\n",
    "model_snapshot_id = project_item_info[\"coreItemId\"][\"snapshotId\"]\n",
    "\n",
    "# Get the URL of the resource\n",
    "print(f\"Resource link: {jinko.get_project_item_url_from_response(response)}\")"
   ]
  },
  {
   "cell_type": "markdown",
   "id": "9687db1c",
   "metadata": {},
   "source": [
    "# Step 2: Create a Vpop Design"
   ]
  },
  {
   "cell_type": "markdown",
   "id": "32b69e5f",
   "metadata": {},
   "source": [
    "### Get model descriptors\n"
   ]
  },
  {
   "cell_type": "code",
   "execution_count": null,
   "id": "a6621fb7",
   "metadata": {},
   "outputs": [],
   "source": [
    "# get model baseline descriptors\n",
    "# https://doc.jinko.ai/api/#/paths/core-v2-model_manager-jinko_model-jinkoModelId--snapshots--jinkoModelIdSnapshot--baseline_descriptors/get\n",
    "response = jinko.make_request(\n",
    "    path=f\"/core/v2/model_manager/jinko_model/{model_core_item_id}/snapshots/{model_snapshot_id}/baseline_descriptors\",\n",
    ")\n",
    "\n",
    "response_json = response.json()\n",
    "\n",
    "numeric_descriptors = response_json[\"numericDescriptors\"]\n",
    "\n",
    "# build the default marginal distributions that will be used to create the vpop design\n",
    "# we only select descriptors that are PatientDescriptorKnown, PatientDescriptorUnknown or PatientDescriptorPartiallyKnown\n",
    "default_marginal_distributions = [\n",
    "    {\n",
    "        \"distribution\": {\n",
    "            \"highBound\": descriptor[\"distribution\"][\"highBound\"],\n",
    "            \"lowBound\": descriptor[\"distribution\"][\"lowBound\"],\n",
    "            \"tag\": descriptor[\"distribution\"][\"tag\"],\n",
    "        },\n",
    "        \"id\": descriptor[\"id\"],\n",
    "    }\n",
    "    for descriptor in numeric_descriptors\n",
    "    if any(\n",
    "        tag in descriptor[\"inputTag\"]\n",
    "        for tag in [\n",
    "            \"PatientDescriptorKnown\",\n",
    "            \"PatientDescriptorUnknown\",\n",
    "            \"PatientDescriptorPartiallyKnown\",\n",
    "        ]\n",
    "    )\n",
    "]\n",
    "\n",
    "# Creating a formatted message with the IDs from marginal distributions\n",
    "ids_output = \"IDs present in the Marginal Distributions:\\n\" + \"\\n\".join(\n",
    "    [distribution[\"id\"] for distribution in default_marginal_distributions]\n",
    ")\n",
    "\n",
    "default_marginal_distributions"
   ]
  },
  {
   "cell_type": "markdown",
   "id": "c5642058",
   "metadata": {},
   "source": [
    "### Create a new list with the updated distributions"
   ]
  },
  {
   "cell_type": "code",
   "execution_count": null,
   "id": "26a73b2c",
   "metadata": {},
   "outputs": [],
   "source": [
    "# Define a dictionary for distribution settings\n",
    "distribution_settings = {\n",
    "    \"initialTumorBurden\": {\"mean\": 1.8, \"stdev\": 0.08, \"base\": 10, \"tag\": \"LogNormal\"},\n",
    "    \"kccCancerCell\": {\"mean\": 12, \"stdev\": 0.5, \"base\": 10, \"tag\": \"LogNormal\"},\n",
    "    \"kGrowthCancerCell\": {\"mean\": -3, \"stdev\": 0.05, \"base\": 10, \"tag\": \"LogNormal\"},\n",
    "    \"vmaxCancerCellDeath\": {\"mean\": -1, \"stdev\": 0.05, \"base\": 10, \"tag\": \"LogNormal\"},\n",
    "    \"ec50Drug\": {\"mean\": -3.5, \"stdev\": 0.05, \"base\": 10, \"tag\": \"LogNormal\"},\n",
    "}\n",
    "\n",
    "# Refactor the list comprehension using the dictionary\n",
    "updated_marginal_distributions = [\n",
    "    {\n",
    "        \"id\": element[\"id\"],\n",
    "        \"distribution\": distribution_settings.get(\n",
    "            element[\"id\"],\n",
    "            element[\n",
    "                \"distribution\"\n",
    "            ],  # Default to the existing distribution if id is not found\n",
    "        ),\n",
    "    }\n",
    "    for element in default_marginal_distributions\n",
    "]"
   ]
  },
  {
   "cell_type": "markdown",
   "id": "8c2cb0bc",
   "metadata": {},
   "source": [
    "### Post the vpop design"
   ]
  },
  {
   "cell_type": "code",
   "execution_count": null,
   "id": "0f13ff94",
   "metadata": {},
   "outputs": [],
   "source": [
    "# https://doc.jinko.ai/api/#/paths/core-v2-vpop_manager-vpop_generator/post\n",
    "response = jinko.make_request(\n",
    "    path=\"/core/v2/vpop_manager/vpop_generator\",\n",
    "    method=\"POST\",\n",
    "    json={\n",
    "        \"contents\": {\n",
    "            \"computationalModelId\": {\n",
    "                \"coreItemId\": model_core_item_id,\n",
    "                \"snapshotId\": model_snapshot_id,\n",
    "            },\n",
    "            \"correlations\": [],\n",
    "            \"marginalCategoricals\": [],\n",
    "            \"marginalDistributions\": updated_marginal_distributions,\n",
    "        },\n",
    "        \"tag\": \"VpopGeneratorFromDesign\",\n",
    "    },\n",
    "    options={\n",
    "        \"name\": \"vpop design for simple tumor model\",\n",
    "        \"folder_id\": folder_id,\n",
    "    },\n",
    ")\n",
    "\n",
    "project_item_info = jinko.get_project_item_info_from_response(response)\n",
    "vpop_generator_core_item_id = project_item_info[\"coreItemId\"][\"id\"]\n",
    "vpop_generator_snapshot_id = project_item_info[\"coreItemId\"][\"snapshotId\"]\n",
    "\n",
    "print(f\"Resource link: {jinko.get_project_item_url_from_response(response)}\")"
   ]
  },
  {
   "cell_type": "markdown",
   "id": "6516445a",
   "metadata": {},
   "source": [
    "# Step 3: Generate a Vpop from the Vpop design"
   ]
  },
  {
   "cell_type": "code",
   "execution_count": null,
   "id": "d603dd35",
   "metadata": {},
   "outputs": [],
   "source": [
    "# https://doc.jinko.ai/api/#/paths/core-v2-vpop_manager-vpop_generator-vpopGeneratorId--snapshots--vpopGeneratorIdSnapshot--vpop/post\n",
    "\n",
    "response = jinko.make_request(\n",
    "    path=f\"/core/v2/vpop_manager/vpop_generator/{vpop_generator_core_item_id}/snapshots/{vpop_generator_snapshot_id}/vpop\",\n",
    "    method=\"POST\",\n",
    "    json={\n",
    "        \"contents\": {\n",
    "            \"computationalModelId\": {\n",
    "                \"coreItemId\": model_core_item_id,\n",
    "                \"snapshotId\": model_snapshot_id,\n",
    "            },\n",
    "            \"size\": 10,  # vpop has 10 patients\n",
    "        },\n",
    "        \"tag\": \"VpopGeneratorOptionsForVpopDesign\",\n",
    "    },\n",
    "    options={\n",
    "        \"name\": \"vpop for simple tumor model\",\n",
    "        \"folder_id\": folder_id,\n",
    "    },\n",
    ")\n",
    "\n",
    "project_item_info = jinko.get_project_item_info_from_response(response)\n",
    "vpop_core_item_id = project_item_info[\"coreItemId\"][\"id\"]\n",
    "vpop_snapshot_id = project_item_info[\"coreItemId\"][\"snapshotId\"]\n",
    "\n",
    "print(f\"Resource link: {jinko.get_project_item_url_from_response(response)}\")"
   ]
  },
  {
   "cell_type": "markdown",
   "id": "75ad1868",
   "metadata": {},
   "source": [
    "# Step 3 bis - not mandatory: Directly post a csv vpop"
   ]
  },
  {
   "cell_type": "code",
   "execution_count": null,
   "id": "9ee5cfb4",
   "metadata": {},
   "outputs": [],
   "source": [
    "with open(vpop_file, \"r\") as file:\n",
    "    vpop = file.read()\n",
    "\n",
    "# https://doc.jinko.ai/api/#/paths/core-v2-vpop_manager-vpop/post\n",
    "\n",
    "response = jinko.make_request(\n",
    "    path=f\"/core/v2/vpop_manager/vpop\",\n",
    "    method=\"POST\",\n",
    "    csv_data=vpop,\n",
    "    options={\n",
    "        \"name\": \"vpop for simple tumor model\",\n",
    "        \"folder_id\": folder_id,\n",
    "    },\n",
    ")\n",
    "\n",
    "project_item_info = jinko.get_project_item_info_from_response(response)\n",
    "vpop_bis_core_item_id = project_item_info[\"coreItemId\"][\"id\"]\n",
    "vpop_bis_snapshot_id = project_item_info[\"coreItemId\"][\"snapshotId\"]\n",
    "\n",
    "print(f\"Resource link: {jinko.get_project_item_url_from_response(response)}\")"
   ]
  },
  {
   "cell_type": "markdown",
   "id": "c2297e60",
   "metadata": {},
   "source": [
    "# Step 4 : Post a Protocol"
   ]
  },
  {
   "cell_type": "code",
   "execution_count": null,
   "id": "49ed14e9",
   "metadata": {},
   "outputs": [],
   "source": [
    "# Load the protocol\n",
    "with open(protocol_file, \"r\") as f:\n",
    "    protocol = json.load(f)\n",
    "\n",
    "# Extract all arm names\n",
    "arm_names = [arm['armName'] for arm in protocol['scenarioArms']]\n",
    "\n",
    "# Post the protocol\n",
    "# https://doc.jinko.ai/api/#/paths/core-v2-scenario_manager-protocol_design/post\n",
    "response = jinko.make_request(\n",
    "    path=\"/core/v2/scenario_manager/protocol_design\",\n",
    "    method=\"POST\",\n",
    "    json=protocol,\n",
    "    options={\n",
    "        \"name\": \"protocol for simple tumor model\",\n",
    "        \"folder_id\": folder_id,\n",
    "    },\n",
    ")\n",
    "\n",
    "project_item_info = jinko.get_project_item_info_from_response(response)\n",
    "protocol_core_item_id = project_item_info[\"coreItemId\"][\"id\"]\n",
    "protocol_snapshot_id = project_item_info[\"coreItemId\"][\"snapshotId\"]\n",
    "\n",
    "print(f\"Resource link: {jinko.get_project_item_url_from_response(response)}\")"
   ]
  },
  {
   "cell_type": "markdown",
   "id": "5394a9b6",
   "metadata": {},
   "source": [
    "# Step 5: Post a Data Table"
   ]
  },
  {
   "cell_type": "code",
   "execution_count": null,
   "id": "69a3c62d",
   "metadata": {},
   "outputs": [],
   "source": [
    "# the source data table is a CSV file, we convert it to SQLite and encode it in base64\n",
    "\n",
    "encoded_data_table = jinko.data_table_to_sqlite(data_table_file)\n",
    "\n",
    "# Step 3: Post the data table\n",
    "# https://doc.jinko.ai/api/#/paths/core-v2-data_table_manager-data_table/post\n",
    "response = jinko.make_request(\n",
    "    path=\"/core/v2/data_table_manager/data_table\",\n",
    "    method=\"POST\",\n",
    "    json={\n",
    "        \"mappings\": [],\n",
    "        \"rawData\": encoded_data_table,\n",
    "    },\n",
    "    options={\n",
    "        \"name\": \"data table for simple tumor model\",\n",
    "        \"folder_id\": folder_id,\n",
    "    },\n",
    ")\n",
    "\n",
    "project_item_info = jinko.get_project_item_info_from_response(response)\n",
    "data_table_core_item_id = project_item_info[\"coreItemId\"][\"id\"]\n",
    "data_table_snapshot_id = project_item_info[\"coreItemId\"][\"snapshotId\"]\n",
    "\n",
    "print(f\"Resource link: {jinko.get_project_item_url_from_response(response)}\")"
   ]
  },
  {
   "cell_type": "markdown",
   "id": "179fef2e",
   "metadata": {},
   "source": [
    "# Step 6: Post a Trial"
   ]
  },
  {
   "cell_type": "code",
   "execution_count": null,
   "id": "dec630b2",
   "metadata": {},
   "outputs": [],
   "source": [
    "# https://doc.jinko.ai/api/#/paths/core-v2-trial_manager-trial/post\n",
    "\n",
    "# Define the data payload\n",
    "trial_data = {\n",
    "    \"computationalModelId\": {\n",
    "        \"coreItemId\": model_core_item_id,\n",
    "        \"snapshotId\": model_snapshot_id,\n",
    "    },\n",
    "    \"protocolDesignId\": {\n",
    "        \"coreItemId\": protocol_core_item_id,\n",
    "        \"snapshotId\": protocol_snapshot_id,\n",
    "    },\n",
    "    \"vpopId\": {\"coreItemId\": vpop_core_item_id, \"snapshotId\": vpop_snapshot_id},\n",
    "    \"dataTableDesigns\": [\n",
    "        {\n",
    "            \"dataTableId\": {\n",
    "                \"coreItemId\": data_table_core_item_id,\n",
    "                \"snapshotId\": data_table_snapshot_id,\n",
    "            },\n",
    "            \"options\": {\n",
    "                \"logTransformWideBounds\": [],\n",
    "                \"label\": \"data_table_simple_tumor\",\n",
    "            },\n",
    "            \"include\": True,\n",
    "        }\n",
    "    ],\n",
    "}\n",
    "\n",
    "response = jinko.make_request(\n",
    "    path=\"/core/v2/trial_manager/trial\",\n",
    "    method=\"POST\",\n",
    "    json=trial_data,\n",
    "    options={\n",
    "        \"name\": \"trial for simple tumor model\",\n",
    "        \"folder_id\": folder_id,\n",
    "    },\n",
    ")\n",
    "\n",
    "project_item_info = jinko.get_project_item_info_from_response(response)\n",
    "trial_core_item_id = project_item_info[\"coreItemId\"][\"id\"]\n",
    "trial_snapshot_id = project_item_info[\"coreItemId\"][\"snapshotId\"]\n",
    "\n",
    "print(f\"Resource link: {jinko.get_project_item_url_from_response(response)}\")"
   ]
  },
  {
   "cell_type": "markdown",
   "id": "df357702",
   "metadata": {},
   "source": [
    "# Step 7 : Run and monitor a trial\n"
   ]
  },
  {
   "cell_type": "markdown",
   "id": "2c80a258",
   "metadata": {},
   "source": [
    "### Run the trial"
   ]
  },
  {
   "cell_type": "code",
   "execution_count": null,
   "id": "f1aed5e4",
   "metadata": {},
   "outputs": [],
   "source": [
    "# https://doc.jinko.ai/api/#/paths/core-v2-trial_manager-trial-trialId--snapshots--trialIdSnapshot--run/post\n",
    "response = jinko.make_request(\n",
    "    path=f\"/core/v2/trial_manager/trial/{trial_core_item_id}/snapshots/{trial_snapshot_id}/run\",\n",
    "    method=\"POST\",\n",
    ")"
   ]
  },
  {
   "cell_type": "markdown",
   "id": "dbfad06c",
   "metadata": {},
   "source": [
    "### get trial status\n"
   ]
  },
  {
   "cell_type": "code",
   "execution_count": null,
   "id": "94701668",
   "metadata": {},
   "outputs": [],
   "source": [
    "jinko.monitor_trial_until_completion(trial_core_item_id, trial_snapshot_id)"
   ]
  },
  {
   "cell_type": "markdown",
   "id": "e5830ed8",
   "metadata": {},
   "source": [
    "# Step 8 : Visualize the trial results "
   ]
  },
  {
   "cell_type": "code",
   "execution_count": null,
   "id": "a53c5379",
   "metadata": {},
   "outputs": [],
   "source": [
    "# Retrieve time series ids (https://doc.jinko.ai/api/#/paths/core-v2-trial_manager-trial-trialId--snapshots--trialIdSnapshot--output_ids/get)\n",
    "\n",
    "response = jinko.make_request(\n",
    "    \"/core/v2/trial_manager/trial/%s/snapshots/%s/output_ids\"\n",
    "    % (trial_core_item_id, trial_snapshot_id),\n",
    "    method=\"GET\",\n",
    ")\n",
    "responseSummary = json.loads(response.content.decode(\"utf-8\"))\n",
    "print(\"Available time series:\\n\", responseSummary, \"\\n\")"
   ]
  },
  {
   "cell_type": "code",
   "execution_count": null,
   "id": "ba414fe2",
   "metadata": {},
   "outputs": [],
   "source": [
    "# Retrieve time series (https://doc.jinko.ai/api/#/paths/core-v2-result_manager-trial-coreItemId--snapshots--snapshotId--timeseries-download/post)\n",
    "\n",
    "# replace here by the time series ids list you want\n",
    "idsForTimeSeries = [\"tumorBurden\"]\n",
    "\n",
    "try:\n",
    "    print(\"Retrieving time series data...\")\n",
    "    response = jinko.make_request(\n",
    "        \"/core/v2/result_manager/trial/%s/snapshots/%s/timeseries/download\" % (\n",
    "            trial_core_item_id, trial_snapshot_id\n",
    "        ),\n",
    "        method=\"POST\",\n",
    "        json={\n",
    "            \"timeseries\": {ts: arm_names for ts in idsForTimeSeries}\n",
    "        },\n",
    "    )\n",
    "    if response.status_code == 200:\n",
    "        print(\"Time series data retrieved successfully.\")\n",
    "        archive = zipfile.ZipFile(io.BytesIO(response.content))\n",
    "        filename = archive.namelist()[0]\n",
    "        print(f\"Extracted time series file: {filename}\")\n",
    "        csvTimeSeries = archive.read(filename).decode(\"utf-8\")\n",
    "    else:\n",
    "        print(\n",
    "            f\"Failed to retrieve time series data: {response.status_code} - {response.reason}\"\n",
    "        )\n",
    "        response.raise_for_status()\n",
    "except Exception as e:\n",
    "    print(f\"Error during time series retrieval or processing: {e}\")\n",
    "    raise"
   ]
  },
  {
   "cell_type": "code",
   "execution_count": null,
   "id": "413fda57",
   "metadata": {},
   "outputs": [],
   "source": [
    "dfTimeSeries = pd.read_csv(io.StringIO(csvTimeSeries))\n",
    "display(dfTimeSeries.head(5))\n",
    "\n",
    "# Extract unique patient IDs\n",
    "unique_patient_ids = dfTimeSeries[\"Patient Id\"].unique().tolist()\n",
    "\n",
    "# Display unique patient IDs\n",
    "print(unique_patient_ids)"
   ]
  },
  {
   "cell_type": "code",
   "execution_count": null,
   "id": "e6ec21de",
   "metadata": {},
   "outputs": [],
   "source": [
    "# Filter data for the first patient\n",
    "patient_data = dfTimeSeries[dfTimeSeries[\"Patient Id\"] == unique_patient_ids[0]]\n",
    "\n",
    "# Plot using Plotly\n",
    "fig = px.line(\n",
    "    patient_data,\n",
    "    x=\"Time\",\n",
    "    y=\"Value\",\n",
    "    color=\"Arm\",\n",
    "    title=\"Time Series of Tumor Burden\",\n",
    "    labels={\"Time\": \"Time (seconds)\", \"Value\": \"Tumor Burden Value\"},\n",
    "    markers=True,\n",
    ")\n",
    "\n",
    "jinko.show_plot_conditionally(fig)"
   ]
  }
 ],
 "metadata": {
  "kernelspec": {
   "display_name": "Python 3 (ipykernel)",
   "language": "python",
   "name": "python3"
  },
  "language_info": {
   "codemirror_mode": {
    "name": "ipython",
    "version": 3
   },
   "file_extension": ".py",
   "mimetype": "text/x-python",
   "name": "python",
   "nbconvert_exporter": "python",
   "pygments_lexer": "ipython3",
   "version": "3.12.9"
  }
 },
 "nbformat": 4,
 "nbformat_minor": 5
}
